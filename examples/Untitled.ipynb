{
 "cells": [
  {
   "cell_type": "code",
   "execution_count": 1,
   "metadata": {
    "ExecuteTime": {
     "end_time": "2019-07-15T10:05:34.899653Z",
     "start_time": "2019-07-15T10:05:33.546468Z"
    }
   },
   "outputs": [],
   "source": [
    "import tensorflow as tf\n",
    "from tensorflow import keras\n",
    "import numpy as np"
   ]
  },
  {
   "cell_type": "code",
   "execution_count": 2,
   "metadata": {
    "ExecuteTime": {
     "end_time": "2019-07-15T10:05:34.910679Z",
     "start_time": "2019-07-15T10:05:34.901810Z"
    }
   },
   "outputs": [],
   "source": [
    "class InceptionV1(keras.layers.Layer):\n",
    "    def __init__(self, num_filters=28, strides=1, activation=\"relu\", padding=\"same\"):\n",
    "        super(InceptionV1, self).__init__()\n",
    "        self.num_filters = num_filters\n",
    "        self.strides = strides\n",
    "        self.activation = activation\n",
    "        self.padding = padding\n",
    "\n",
    "    def build(self, input_shape):\n",
    "        self.conv_block_a = keras.layers.Conv2D(self.num_filters, (1, 1), activation=self.activation, strides=self.strides, padding=self.padding)\n",
    "        self.conv_block_b = keras.layers.Conv2D(self.num_filters, (3, 3), activation=self.activation, strides=self.strides, padding=self.padding)\n",
    "        self.conv_block_c = keras.layers.Conv2D(self.num_filters, (5, 5), activation=self.activation, strides=self.strides, padding=self.padding)\n",
    "        self.maxpool_block = keras.layers.MaxPool2D(pool_size=(3, 3), strides=self.strides, padding=self.padding)\n",
    "    \n",
    "    def call(self, x):\n",
    "        out_a = self.conv_block_a(x)\n",
    "        out_b = self.conv_block_b(x)\n",
    "        out_c = self.conv_block_c(x)\n",
    "        out_d = self.maxpool_block(x)\n",
    "        output = keras.layers.concatenate([out_a, out_b, out_c, out_d], axis=-1)\n",
    "        return output"
   ]
  },
  {
   "cell_type": "code",
   "execution_count": 3,
   "metadata": {
    "ExecuteTime": {
     "end_time": "2019-07-15T10:05:34.926566Z",
     "start_time": "2019-07-15T10:05:34.913429Z"
    }
   },
   "outputs": [],
   "source": [
    "class InceptionV1Reduction(keras.layers.Layer):\n",
    "    def __init__(self, num_filters=28, strides=1, activation=\"relu\", padding=\"same\"):\n",
    "        super(InceptionV1Reduction, self).__init__()\n",
    "        self.num_filters = num_filters\n",
    "        self.strides = strides\n",
    "        self.activation = activation\n",
    "        self.padding = padding\n",
    "\n",
    "    def build(self, input_shape):\n",
    "        self.conv_1a = keras.layers.Conv2D(self.num_filters, (1, 1), activation=self.activation, strides=self.strides*self.strides, padding=self.padding)\n",
    "        self.conv_1b = keras.layers.Conv2D(self.num_filters, (1, 1), activation=self.activation, strides=self.strides, padding=self.padding)\n",
    "        self.conv_1c = keras.layers.Conv2D(self.num_filters, (1, 1), activation=self.activation, strides=self.strides, padding=self.padding)\n",
    "        self.conv_1d = keras.layers.Conv2D(self.num_filters, (1, 1), activation=self.activation, strides=self.strides, padding=self.padding)\n",
    "        self.conv_3 = keras.layers.Conv2D(self.num_filters, (3, 3), activation=self.activation, strides=self.strides, padding=self.padding)\n",
    "        self.conv_5 = keras.layers.Conv2D(self.num_filters, (5, 5), activation=self.activation, strides=self.strides, padding=self.padding)\n",
    "        self.maxpool_block = keras.layers.MaxPool2D(pool_size=(3, 3), strides=self.strides, padding=self.padding)\n",
    "    \n",
    "    def call(self, x):\n",
    "        # Block 1\n",
    "        out_a = self.conv_1a(x)\n",
    "        # Block 2\n",
    "        out_b_inter = self.conv_1b(x)\n",
    "        out_b = self.conv_3(out_b_inter)\n",
    "        # Block 3\n",
    "        out_c_inter = self.conv_1c(x)\n",
    "        out_c = self.conv_5(out_c_inter)\n",
    "        # Block 4\n",
    "        out_d_inter = self.maxpool_block(x)\n",
    "        out_d = self.conv_1d(out_d_inter)\n",
    "        output = keras.layers.concatenate([out_a, out_b, out_c, out_d], axis=-1)\n",
    "        return output"
   ]
  },
  {
   "cell_type": "code",
   "execution_count": 4,
   "metadata": {
    "ExecuteTime": {
     "end_time": "2019-07-15T10:05:35.226338Z",
     "start_time": "2019-07-15T10:05:34.928779Z"
    }
   },
   "outputs": [],
   "source": [
    "from tensorflow.keras.datasets import mnist\n",
    "(X_train, y_train), (X_test, y_test) = mnist.load_data()"
   ]
  },
  {
   "cell_type": "code",
   "execution_count": 5,
   "metadata": {
    "ExecuteTime": {
     "end_time": "2019-07-15T10:05:35.232783Z",
     "start_time": "2019-07-15T10:05:35.228651Z"
    }
   },
   "outputs": [],
   "source": [
    "#reshape data to fit model\n",
    "X_train = X_train.reshape(60000,28,28,1)\n",
    "X_test = X_test.reshape(10000,28,28,1)"
   ]
  },
  {
   "cell_type": "code",
   "execution_count": 6,
   "metadata": {
    "ExecuteTime": {
     "end_time": "2019-07-15T10:05:35.244186Z",
     "start_time": "2019-07-15T10:05:35.234736Z"
    }
   },
   "outputs": [
    {
     "data": {
      "text/plain": [
       "((60000, 28, 28, 1), (10000, 28, 28, 1))"
      ]
     },
     "execution_count": 6,
     "metadata": {},
     "output_type": "execute_result"
    }
   ],
   "source": [
    "X_train.shape, X_test.shape"
   ]
  },
  {
   "cell_type": "code",
   "execution_count": 7,
   "metadata": {
    "ExecuteTime": {
     "end_time": "2019-07-15T10:05:35.251493Z",
     "start_time": "2019-07-15T10:05:35.246999Z"
    }
   },
   "outputs": [
    {
     "data": {
      "text/plain": [
       "(4, 4)"
      ]
     },
     "execution_count": 7,
     "metadata": {},
     "output_type": "execute_result"
    }
   ],
   "source": [
    "X_train.ndim, X_test.ndim"
   ]
  },
  {
   "cell_type": "code",
   "execution_count": 8,
   "metadata": {
    "ExecuteTime": {
     "end_time": "2019-07-15T10:05:35.261271Z",
     "start_time": "2019-07-15T10:05:35.254243Z"
    }
   },
   "outputs": [],
   "source": [
    "from tensorflow.keras.utils import to_categorical\n",
    "\n",
    "y_train = to_categorical(y_train)\n",
    "y_test = to_categorical(y_test)"
   ]
  },
  {
   "cell_type": "code",
   "execution_count": 9,
   "metadata": {
    "ExecuteTime": {
     "end_time": "2019-07-15T10:05:35.271378Z",
     "start_time": "2019-07-15T10:05:35.264213Z"
    }
   },
   "outputs": [],
   "source": [
    "from tensorflow.keras.models import Sequential\n",
    "from tensorflow.keras.layers import Dense, Conv2D, Flatten"
   ]
  },
  {
   "cell_type": "code",
   "execution_count": 12,
   "metadata": {
    "ExecuteTime": {
     "end_time": "2019-07-15T10:05:42.720370Z",
     "start_time": "2019-07-15T10:05:42.549484Z"
    }
   },
   "outputs": [],
   "source": [
    "model = Sequential()#add model layers\n",
    "model.add(Conv2D(64, kernel_size=3, activation=\"relu\", input_shape=(28,28,1)))\n",
    "model.add(InceptionV1())\n",
    "model.add(Conv2D(32, kernel_size=3, activation=\"relu\"))\n",
    "model.add(Flatten())\n",
    "model.add(Dense(10, activation=\"softmax\"))"
   ]
  },
  {
   "cell_type": "code",
   "execution_count": 13,
   "metadata": {
    "ExecuteTime": {
     "end_time": "2019-07-15T10:05:43.496759Z",
     "start_time": "2019-07-15T10:05:43.488331Z"
    }
   },
   "outputs": [
    {
     "name": "stdout",
     "output_type": "stream",
     "text": [
      "Model: \"sequential_1\"\n",
      "_________________________________________________________________\n",
      "Layer (type)                 Output Shape              Param #   \n",
      "=================================================================\n",
      "conv2d_2 (Conv2D)            (None, 26, 26, 64)        640       \n",
      "_________________________________________________________________\n",
      "inception_v1 (InceptionV1)   (None, 26, 26, 148)       62804     \n",
      "_________________________________________________________________\n",
      "conv2d_3 (Conv2D)            (None, 24, 24, 32)        42656     \n",
      "_________________________________________________________________\n",
      "flatten_1 (Flatten)          (None, 18432)             0         \n",
      "_________________________________________________________________\n",
      "dense_1 (Dense)              (None, 10)                184330    \n",
      "=================================================================\n",
      "Total params: 290,430\n",
      "Trainable params: 290,430\n",
      "Non-trainable params: 0\n",
      "_________________________________________________________________\n"
     ]
    }
   ],
   "source": [
    "model.summary()"
   ]
  },
  {
   "cell_type": "code",
   "execution_count": null,
   "metadata": {},
   "outputs": [],
   "source": []
  }
 ],
 "metadata": {
  "kernelspec": {
   "display_name": "Python [conda env:tf2_0]",
   "language": "python",
   "name": "conda-env-tf2_0-py"
  },
  "language_info": {
   "codemirror_mode": {
    "name": "ipython",
    "version": 3
   },
   "file_extension": ".py",
   "mimetype": "text/x-python",
   "name": "python",
   "nbconvert_exporter": "python",
   "pygments_lexer": "ipython3",
   "version": "3.7.3"
  }
 },
 "nbformat": 4,
 "nbformat_minor": 2
}
