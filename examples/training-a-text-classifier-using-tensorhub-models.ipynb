{
 "cells": [
  {
   "cell_type": "code",
   "execution_count": 1,
   "metadata": {
    "ExecuteTime": {
     "end_time": "2019-07-16T09:31:07.170457Z",
     "start_time": "2019-07-16T09:31:07.100049Z"
    }
   },
   "outputs": [
    {
     "ename": "ModuleNotFoundError",
     "evalue": "No module named 'tensorhubtest'",
     "output_type": "error",
     "traceback": [
      "\u001b[0;31m---------------------------------------------------------------------------\u001b[0m",
      "\u001b[0;31mModuleNotFoundError\u001b[0m                       Traceback (most recent call last)",
      "\u001b[0;32m<ipython-input-1-47c9202424f8>\u001b[0m in \u001b[0;36m<module>\u001b[0;34m\u001b[0m\n\u001b[0;32m----> 1\u001b[0;31m \u001b[0;32mimport\u001b[0m \u001b[0mtensorhubtest\u001b[0m\u001b[0;34m\u001b[0m\u001b[0;34m\u001b[0m\u001b[0m\n\u001b[0m",
      "\u001b[0;31mModuleNotFoundError\u001b[0m: No module named 'tensorhubtest'"
     ]
    }
   ],
   "source": [
    "import tensorhubtest"
   ]
  },
  {
   "cell_type": "code",
   "execution_count": 2,
   "metadata": {
    "ExecuteTime": {
     "end_time": "2019-07-16T09:31:12.902825Z",
     "start_time": "2019-07-16T09:31:12.898736Z"
    }
   },
   "outputs": [],
   "source": [
    "import tensorhub"
   ]
  },
  {
   "cell_type": "code",
   "execution_count": null,
   "metadata": {
    "ExecuteTime": {
     "end_time": "2019-07-16T09:19:59.659288Z",
     "start_time": "2019-07-16T09:19:56.819524Z"
    }
   },
   "outputs": [],
   "source": [
    "# Copyright 2019 The TensorHub Authors. All Rights Reserved.\n",
    "#\n",
    "# Licensed under the Apache License, Version 2.0 (the \"License\");\n",
    "# you may not use this file except in compliance with the License.\n",
    "# You may obtain a copy of the License at\n",
    "#\n",
    "#     http://www.apache.org/licenses/LICENSE-2.0\n",
    "#\n",
    "# Unless required by applicable law or agreed to in writing, software\n",
    "# distributed under the License is distributed on an \"AS IS\" BASIS,\n",
    "# WITHOUT WARRANTIES OR CONDITIONS OF ANY KIND, either express or implied.\n",
    "# See the License for the specific language governing permissions and\n",
    "# limitations under the License.\n",
    "# ==============================================================================\n",
    "\n",
    "# Load packages\n",
    "import numpy as np\n",
    "import pandas as pd\n",
    "import tensorflow as tf\n",
    "from sklearn.model_selection import train_test_split\n",
    "from tensorhub.cooked_models.text.classifiers import PerceptronClassifier, RNNClassifier\n",
    "from tensorhub.utilities.text.processor import create_vocabulary, load_embedding"
   ]
  },
  {
   "cell_type": "markdown",
   "metadata": {},
   "source": [
    "## Multiclass Text Classification on 'News Healines' Dataset"
   ]
  },
  {
   "cell_type": "markdown",
   "metadata": {},
   "source": [
    "### DATA PREPRATION"
   ]
  },
  {
   "cell_type": "code",
   "execution_count": null,
   "metadata": {
    "ExecuteTime": {
     "end_time": "2019-07-15T06:52:05.753878Z",
     "start_time": "2019-07-15T06:52:03.821290Z"
    }
   },
   "outputs": [],
   "source": [
    "# Path to dataset in use\n",
    "filepath = \"../data/news-category.json\"\n",
    "\n",
    "# Load data into a dataframe\n",
    "df = pd.read_json(filepath, orient=\"records\", encoding=\"utf-8\", lines=True)\n",
    "\n",
    "print(\"Data Shape:\", df.shape)\n",
    "print(\"Columns:\", df.columns)\n",
    "\n",
    "# Select feature and target column\n",
    "x = list(df.headline)\n",
    "y = list(df.category)\n",
    "\n",
    "# Split data into train and test\n",
    "# Train -> 75%\n",
    "# Test -> 25%\n",
    "x_train, x_test, y_train, y_test = train_test_split(x, y, test_size=0.25)\n",
    "\n",
    "print(\"Number of train samples:\", len(x_train)) # List\n",
    "print(\"Number of test samples:\", len(x_test))"
   ]
  },
  {
   "cell_type": "code",
   "execution_count": null,
   "metadata": {
    "ExecuteTime": {
     "end_time": "2019-07-15T06:52:51.640620Z",
     "start_time": "2019-07-15T06:52:51.616376Z"
    }
   },
   "outputs": [],
   "source": [
    "# Compute the maximum number of words and characters in a sequence from the whole corpus\n",
    "max_num_words = len(max(x).split())\n",
    "max_num_chars = len(max(x))\n",
    "\n",
    "print(\"Maximum number of word in a sequence are\", max_num_words)\n",
    "print(\"Maximum number of chars in a sequence are\", max_num_chars)"
   ]
  },
  {
   "cell_type": "code",
   "execution_count": null,
   "metadata": {
    "ExecuteTime": {
     "end_time": "2019-07-15T06:56:06.584868Z",
     "start_time": "2019-07-15T06:56:06.582566Z"
    }
   },
   "outputs": [],
   "source": [
    "# Train a custom tokenizer on the corpus and generate tokenizer instance with vocabulary\n",
    "# type_embedding: 'word' & 'char'\n",
    "tokenizer, word_index = create_vocabulary(x, type_embedding=\"word\")\n",
    "\n",
    "# Or\n",
    "# Load pre-trained embedding matrix if learn_embedding is False. See model configuration.\n",
    "# embedding_matrix = Embeddings.load_embedding(word_index, filepath=\"PATH_TO_PRE_TRAINED_EMBEDDINGS\", dim=EMBEDDING_DIM)"
   ]
  },
  {
   "cell_type": "code",
   "execution_count": null,
   "metadata": {},
   "outputs": [],
   "source": [
    "# Tokenize data using the created tokenizer instance\n",
    "x_train = tokenizer.texts_to_sequences(x_train)\n",
    "x_test = tokenizer.texts_to_sequences(x_test)\n",
    "\n",
    "# Pad or truncate sequences to make fixed length input\n",
    "x_train = keras.preprocessing.sequence.pad_sequences(\n",
    "    x_train,\n",
    "    value=0, # Pad with 0\n",
    "    padding=\"post\",\n",
    "    truncating=\"post\",\n",
    "    maxlen=max_num_words # When using 'char' embedding use max_num_chars\n",
    ")\n",
    "\n",
    "x_test = keras.preprocessing.sequence.pad_sequences(\n",
    "    x_test,\n",
    "    value=0, # Pad with 0\n",
    "    padding=\"post\",\n",
    "    truncating=\"post\",\n",
    "    maxlen=max_num_words # When using 'char' embedding use max_num_chars\n",
    ")"
   ]
  },
  {
   "cell_type": "code",
   "execution_count": null,
   "metadata": {},
   "outputs": [],
   "source": [
    "# Convert data type to float from int\n",
    "x_train = x_train.astype(np.float32)\n",
    "x_test = x_test.astype(np.float32)"
   ]
  },
  {
   "cell_type": "code",
   "execution_count": null,
   "metadata": {},
   "outputs": [],
   "source": [
    "# Get all class labels\n",
    "classes = np.unique(y_train)\n",
    "\n",
    "# Generate a unique index for each class from 0 to len(classes) - 1\n",
    "index = range(len(classes))\n",
    "\n",
    "# Create class to index mapping\n",
    "class_index = dict(zip(classes, index))\n",
    "reverse_class_index = dict(zip(index, classes))"
   ]
  },
  {
   "cell_type": "code",
   "execution_count": null,
   "metadata": {},
   "outputs": [],
   "source": [
    "# Now encode labels using the created mapping\n",
    "y_train = [class_index[label] for label in y_train]\n",
    "y_test = [class_index[label] for label in y_test]"
   ]
  },
  {
   "cell_type": "code",
   "execution_count": null,
   "metadata": {},
   "outputs": [],
   "source": [
    "# Convert to categorical\n",
    "y_train = keras.utils.to_categorical(y_train, num_classes=len(classes))\n",
    "y_test = keras.utils.to_categorical(y_test, num_classes=len(classes))"
   ]
  },
  {
   "cell_type": "code",
   "execution_count": null,
   "metadata": {},
   "outputs": [],
   "source": [
    "# Create batch datasets: batches of 32 for train and 64 for test\n",
    "train_ds = tf.data.Dataset.from_tensor_slices((x_train, y_train)).batch(32)\n",
    "test_ds = tf.data.Dataset.from_tensor_slices((x_test, y_test)).batch(64)"
   ]
  },
  {
   "cell_type": "code",
   "execution_count": null,
   "metadata": {},
   "outputs": [],
   "source": [
    "# Load one of our pre-cooked models\n",
    "# LSTM model\n",
    "classifier = RNNClassifier(\n",
    "    model_name=\"lstm\",\n",
    "    vocab_size=len(word_index) + 1,\n",
    "    num_classes=len(classes)\n",
    ")"
   ]
  },
  {
   "cell_type": "markdown",
   "metadata": {},
   "source": [
    "### SET MODEL TRAINING AND VALIDATION ENVIRONMENT"
   ]
  },
  {
   "cell_type": "code",
   "execution_count": null,
   "metadata": {
    "ExecuteTime": {
     "end_time": "2019-07-15T07:00:59.051485Z",
     "start_time": "2019-07-15T07:00:59.041220Z"
    }
   },
   "outputs": [],
   "source": [
    "# Train model using a tensor function\n",
    "# In future, this will be separated as a different module with multiple development and production environment\n",
    "def train_validate_model(model, train_ds, test_ds, epochs=3):\n",
    "    # Define model configuration\n",
    "    loss_function = keras.losses.CategoricalCrossentropy()\n",
    "\n",
    "    # Define optimizer\n",
    "    optimizer = keras.optimizers.RMSprop()\n",
    "\n",
    "    # Accumulate performance metrics while training\n",
    "    train_loss = keras.metrics.Mean(name=\"train_loss\")\n",
    "    train_accuracy = keras.metrics.CategoricalAccuracy(name=\"train_accuracy\")\n",
    "    test_loss = keras.metrics.Mean(name=\"test_loss\")\n",
    "    test_accuracy = keras.metrics.CategoricalAccuracy(name=\"test_accuracy\")\n",
    "    template = \"Epoch {}, Loss: {}, Accuracy: {}%, Test Loss: {}, Test Accuracy: {}%\"\n",
    "\n",
    "    @tf.function()\n",
    "    def train_step(text, labels):\n",
    "        # Use gradient tape for training the model\n",
    "        with tf.GradientTape() as tape:\n",
    "            # Get predictions\n",
    "            predictions = model(text)\n",
    "            # Compute instantaneous loss\n",
    "            loss = loss_function(labels, predictions)\n",
    "        # Update gradients\n",
    "        gradients = tape.gradient(loss, model.trainable_variables)\n",
    "        optimizer.apply_gradients(zip(gradients, model.trainable_variables))\n",
    "        # Store\n",
    "        train_loss(loss)\n",
    "        train_accuracy(labels, predictions)\n",
    "        \n",
    "    # Test model using another tensor function\n",
    "    @tf.function()\n",
    "    def test_step(text, labels):\n",
    "        # Get predictions\n",
    "        predictions = model(text)\n",
    "        # Compute instantaneous loss\n",
    "        loss = loss_function(labels, predictions)\n",
    "        # Store\n",
    "        test_loss(loss)\n",
    "        test_accuracy(labels, predictions)\n",
    "\n",
    "    print(\"{:#^50s}\".format(\"Train and Validate\"))\n",
    "    for epoch in range(1, epochs+1):\n",
    "        print(\"Epoch {}/{}\".format(epoch, epochs))\n",
    "        \n",
    "        # Train model on batches\n",
    "        for text, labels in train_ds:\n",
    "            train_step(text, labels)\n",
    "        \n",
    "        # Test model on batches\n",
    "        for t_text, t_labels in test_ds:\n",
    "            test_step(t_text, t_labels)\n",
    "\n",
    "        # Prompt user\n",
    "        print(template.format(epoch, train_loss.result(), train_accuracy.result()*100, test_loss.result(), test_accuracy.result()*100))\n"
   ]
  },
  {
   "cell_type": "code",
   "execution_count": null,
   "metadata": {},
   "outputs": [],
   "source": [
    "# Run\n",
    "train_validate_model(custom_model, train_ds, test_ds)"
   ]
  }
 ],
 "metadata": {
  "kernelspec": {
   "display_name": "Python [conda env:package_test]",
   "language": "python",
   "name": "conda-env-package_test-py"
  },
  "language_info": {
   "codemirror_mode": {
    "name": "ipython",
    "version": 3
   },
   "file_extension": ".py",
   "mimetype": "text/x-python",
   "name": "python",
   "nbconvert_exporter": "python",
   "pygments_lexer": "ipython3",
   "version": "3.7.3"
  }
 },
 "nbformat": 4,
 "nbformat_minor": 2
}
