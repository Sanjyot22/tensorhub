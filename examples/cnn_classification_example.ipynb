{
 "cells": [
  {
   "cell_type": "markdown",
   "metadata": {},
   "source": [
    "# Multiclass CNN classification on \"MNIST dataset\""
   ]
  },
  {
   "cell_type": "code",
   "execution_count": 93,
   "metadata": {},
   "outputs": [],
   "source": [
    "# Copyright 2019 The TensorHub Authors. All Rights Reserved.\n",
    "#\n",
    "# Licensed under the Apache License, Version 2.0 (the \"License\");\n",
    "# you may not use this file except in compliance with the License.\n",
    "# You may obtain a copy of the License at\n",
    "#\n",
    "#     http://www.apache.org/licenses/LICENSE-2.0\n",
    "#\n",
    "# Unless required by applicable law or agreed to in writing, software\n",
    "# distributed under the License is distributed on an \"AS IS\" BASIS,\n",
    "# WITHOUT WARRANTIES OR CONDITIONS OF ANY KIND, either express or implied.\n",
    "# See the License for the specific language governing permissions and\n",
    "# limitations under the License.\n",
    "# ==============================================================================\n",
    "from PIL import Image\n",
    "import numpy as np\n",
    "import matplotlib.pyplot as plt\n",
    "from tensorflow.keras.datasets import mnist\n",
    "from tensorflow.keras.utils import to_categorical\n",
    "from tensorhub.models.image.classifiers import VGG16 "
   ]
  },
  {
   "cell_type": "markdown",
   "metadata": {},
   "source": [
    "## Data preparation for model training"
   ]
  },
  {
   "cell_type": "code",
   "execution_count": 88,
   "metadata": {},
   "outputs": [],
   "source": [
    "def resize_n_normalize_image(small_img, b=32, h=32):\n",
    "    img = Image.fromarray(small_img, \"L\") # reading a gray scale image from array\n",
    "    img = img.convert(mode='RGB') # added 3 channels to grapy scale image\n",
    "    img = img.resize((b, h), Image.ANTIALIAS) # resizing the image\n",
    "    return np.array(img)/255.0 # normalizing the image"
   ]
  },
  {
   "cell_type": "code",
   "execution_count": 90,
   "metadata": {},
   "outputs": [
    {
     "name": "stdout",
     "output_type": "stream",
     "text": [
      "mnist images are 28*28 images\n",
      "\n",
      "After resizing\n",
      "train data shape: (60000, 32, 32, 3)\n",
      "test data shape: (10000, 32, 32, 3) \n",
      "\n",
      "train labels shape: (60000, 10)\n",
      "test labels shape: (10000, 10) \n",
      "\n",
      "MNIST data:\n",
      "\n",
      "sample image in training data\n"
     ]
    },
    {
     "data": {
      "image/png": "[encoded data removed]",
      "text/plain": [
       "<Figure size 432x288 with 1 Axes>"
      ]
     },
     "metadata": {
      "needs_background": "light"
     },
     "output_type": "display_data"
    },
    {
     "name": "stdout",
     "output_type": "stream",
     "text": [
      "sample training lables\n",
      "[5 0 4 1 9 2 1 3 1 4]\n",
      "\n",
      "training lables after one hot encoding\n",
      "[[0. 0. 0. 0. 0. 1. 0. 0. 0. 0.]\n",
      " [1. 0. 0. 0. 0. 0. 0. 0. 0. 0.]\n",
      " [0. 0. 0. 0. 1. 0. 0. 0. 0. 0.]\n",
      " [0. 1. 0. 0. 0. 0. 0. 0. 0. 0.]\n",
      " [0. 0. 0. 0. 0. 0. 0. 0. 0. 1.]\n",
      " [0. 0. 1. 0. 0. 0. 0. 0. 0. 0.]\n",
      " [0. 1. 0. 0. 0. 0. 0. 0. 0. 0.]\n",
      " [0. 0. 0. 1. 0. 0. 0. 0. 0. 0.]\n",
      " [0. 1. 0. 0. 0. 0. 0. 0. 0. 0.]\n",
      " [0. 0. 0. 0. 1. 0. 0. 0. 0. 0.]]\n"
     ]
    }
   ],
   "source": [
    "(train_images, train_labels), (test_images, test_labels) = mnist.load_data()\n",
    "\n",
    "# normalizing & resizing training and test images \n",
    "b, h = 32, 32\n",
    "train_images = train_images.reshape((60000, 28 , 28)) # original mnist image are of 28*28 dimensions\n",
    "train_images = np.array([resize_n_normalize_image(image_, b, h) for image_ in train_images])\n",
    "\n",
    "test_images = test_images.reshape((10000, 28 , 28)) # original mnist image are of 28*28 dimensions\n",
    "test_images = np.array([resize_n_normalize_image(image_, b, h) for image_ in test_images])\n",
    "\n",
    "# Preparing the labels\n",
    "temp_train_labels = train_labels[:10]\n",
    "train_labels = to_categorical(train_labels)\n",
    "test_labels = to_categorical(test_labels)\n",
    "\n",
    "print (\"mnist images are 28*28 images\\n\")\n",
    "print (\"After resizing\")\n",
    "print('train data shape:', train_images.shape)\n",
    "print('test data shape:', test_images.shape, \"\\n\")\n",
    "\n",
    "print('train labels shape:', train_labels.shape)\n",
    "print('test labels shape:', test_labels.shape, \"\\n\")\n",
    "\n",
    "\n",
    "print(\"MNIST data:\")\n",
    "print (\"\\nsample image in training data\")\n",
    "digit = train_images[0]\n",
    "plt.imshow(np.reshape(digit, (b,h,3)), cmap=plt.cm.binary)\n",
    "plt.show()\n",
    "\n",
    "print (\"sample training lables\")\n",
    "print (temp_train_labels)\n",
    "print (\"\\ntraining lables after one hot encoding\")\n",
    "print(train_labels[:10])"
   ]
  },
  {
   "cell_type": "markdown",
   "metadata": {},
   "source": [
    "## Creating Model architectuire "
   ]
  },
  {
   "cell_type": "code",
   "execution_count": 94,
   "metadata": {},
   "outputs": [
    {
     "name": "stdout",
     "output_type": "stream",
     "text": [
      "Model: \"model_8\"\n",
      "_________________________________________________________________\n",
      "Layer (type)                 Output Shape              Param #   \n",
      "=================================================================\n",
      "input_9 (InputLayer)         [(None, 32, 32, 3)]       0         \n",
      "_________________________________________________________________\n",
      "block1_conv1 (Conv2D)        (None, 32, 32, 64)        1792      \n",
      "_________________________________________________________________\n",
      "block1_conv2 (Conv2D)        (None, 32, 32, 64)        36928     \n",
      "_________________________________________________________________\n",
      "block1_pool (MaxPooling2D)   (None, 16, 16, 64)        0         \n",
      "_________________________________________________________________\n",
      "block2_conv1 (Conv2D)        (None, 16, 16, 128)       73856     \n",
      "_________________________________________________________________\n",
      "block2_conv2 (Conv2D)        (None, 16, 16, 128)       147584    \n",
      "_________________________________________________________________\n",
      "block2_pool (MaxPooling2D)   (None, 8, 8, 128)         0         \n",
      "_________________________________________________________________\n",
      "block3_conv1 (Conv2D)        (None, 8, 8, 256)         295168    \n",
      "_________________________________________________________________\n",
      "block3_conv2 (Conv2D)        (None, 8, 8, 256)         590080    \n",
      "_________________________________________________________________\n",
      "block3_conv3 (Conv2D)        (None, 8, 8, 256)         590080    \n",
      "_________________________________________________________________\n",
      "block3_pool (MaxPooling2D)   (None, 4, 4, 256)         0         \n",
      "_________________________________________________________________\n",
      "block4_conv1 (Conv2D)        (None, 4, 4, 512)         1180160   \n",
      "_________________________________________________________________\n",
      "block4_conv2 (Conv2D)        (None, 4, 4, 512)         2359808   \n",
      "_________________________________________________________________\n",
      "block4_conv3 (Conv2D)        (None, 4, 4, 512)         2359808   \n",
      "_________________________________________________________________\n",
      "block4_pool (MaxPooling2D)   (None, 2, 2, 512)         0         \n",
      "_________________________________________________________________\n",
      "block5_conv1 (Conv2D)        (None, 2, 2, 512)         2359808   \n",
      "_________________________________________________________________\n",
      "block5_conv2 (Conv2D)        (None, 2, 2, 512)         2359808   \n",
      "_________________________________________________________________\n",
      "block5_conv3 (Conv2D)        (None, 2, 2, 512)         2359808   \n",
      "_________________________________________________________________\n",
      "block5_pool (MaxPooling2D)   (None, 1, 1, 512)         0         \n",
      "_________________________________________________________________\n",
      "sequential_8 (Sequential)    (None, 10)                1055242   \n",
      "=================================================================\n",
      "Total params: 15,769,930\n",
      "Trainable params: 15,769,930\n",
      "Non-trainable params: 0\n",
      "_________________________________________________________________\n"
     ]
    }
   ],
   "source": [
    "n_classes = 10 # number of classes\n",
    "model = VGG16(n_classes=n_classes, img_width=b, img_height=h)\n",
    "\n",
    "\n",
    "# model compile\n",
    "model.compile(optimizer='rmsprop',\n",
    "                loss='categorical_crossentropy',\n",
    "                metrics=['accuracy'])"
   ]
  },
  {
   "cell_type": "markdown",
   "metadata": {},
   "source": [
    "## Training the model"
   ]
  },
  {
   "cell_type": "code",
   "execution_count": 95,
   "metadata": {},
   "outputs": [
    {
     "name": "stdout",
     "output_type": "stream",
     "text": [
      "Train on 6000 samples, validate on 1000 samples\n",
      "Epoch 1/5\n",
      "6000/6000 [==============================] - 94s 16ms/sample - loss: 14.2525 - accuracy: 0.1075 - val_loss: 14.5224 - val_accuracy: 0.0990\n",
      "Epoch 2/5\n",
      "6000/6000 [==============================] - 94s 16ms/sample - loss: 14.3693 - accuracy: 0.1085 - val_loss: 14.5224 - val_accuracy: 0.0990\n",
      "Epoch 3/5\n",
      "6000/6000 [==============================] - 99s 17ms/sample - loss: 14.3693 - accuracy: 0.1085 - val_loss: 14.5224 - val_accuracy: 0.0990\n",
      "Epoch 4/5\n",
      "6000/6000 [==============================] - 100s 17ms/sample - loss: 14.3639 - accuracy: 0.1088 - val_loss: 14.5224 - val_accuracy: 0.0990\n",
      "Epoch 5/5\n",
      "6000/6000 [==============================] - 98s 16ms/sample - loss: 14.3773 - accuracy: 0.1080 - val_loss: 14.5224 - val_accuracy: 0.0990\n"
     ]
    }
   ],
   "source": [
    "train_hist = model.fit(train_images[:6000], train_labels[:6000], \n",
    "                       epochs=5, batch_size=64, \n",
    "                       validation_data=(test_images[:1000], test_labels[:1000]))"
   ]
  }
 ],
 "metadata": {
  "kernelspec": {
   "display_name": "Python 3",
   "language": "python",
   "name": "python3"
  },
  "language_info": {
   "codemirror_mode": {
    "name": "ipython",
    "version": 3
   },
   "file_extension": ".py",
   "mimetype": "text/x-python",
   "name": "python",
   "nbconvert_exporter": "python",
   "pygments_lexer": "ipython3",
   "version": "3.7.3"
  }
 },
 "nbformat": 4,
 "nbformat_minor": 2
}
