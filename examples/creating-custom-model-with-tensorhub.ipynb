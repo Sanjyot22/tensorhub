{
 "cells": [
  {
   "cell_type": "code",
   "execution_count": 1,
   "metadata": {
    "ExecuteTime": {
     "end_time": "2019-07-16T10:25:00.973272Z",
     "start_time": "2019-07-16T10:24:59.645429Z"
    }
   },
   "outputs": [],
   "source": [
    "# Copyright 2019 The TensorHub Authors. All Rights Reserved.\n",
    "#\n",
    "# Licensed under the Apache License, Version 2.0 (the \"License\");\n",
    "# you may not use this file except in compliance with the License.\n",
    "# You may obtain a copy of the License at\n",
    "#\n",
    "#     http://www.apache.org/licenses/LICENSE-2.0\n",
    "#\n",
    "# Unless required by applicable law or agreed to in writing, software\n",
    "# distributed under the License is distributed on an \"AS IS\" BASIS,\n",
    "# WITHOUT WARRANTIES OR CONDITIONS OF ANY KIND, either express or implied.\n",
    "# See the License for the specific language governing permissions and\n",
    "# limitations under the License.\n",
    "# ==============================================================================\n",
    "\n",
    "# Load packages\n",
    "import numpy as np\n",
    "import pandas as pd\n",
    "from tensorflow import keras\n",
    "from tensorhub.models.text.classifiers import PerceptronClassifier, RNNClassifier\n",
    "from tensorhub.layers import InceptionV1, InceptionV1Reduction\n",
    "from tensorhub.utilities.activations import relu, gelu, softmax"
   ]
  },
  {
   "cell_type": "markdown",
   "metadata": {},
   "source": [
    "### Sequencial model with some custom layers"
   ]
  },
  {
   "cell_type": "code",
   "execution_count": 2,
   "metadata": {
    "ExecuteTime": {
     "end_time": "2019-07-16T10:25:01.175841Z",
     "start_time": "2019-07-16T10:25:00.975148Z"
    }
   },
   "outputs": [
    {
     "name": "stdout",
     "output_type": "stream",
     "text": [
      "Model: \"sequential\"\n",
      "_________________________________________________________________\n",
      "Layer (type)                 Output Shape              Param #   \n",
      "=================================================================\n",
      "conv2d (Conv2D)              (None, 26, 26, 64)        640       \n",
      "_________________________________________________________________\n",
      "inception_v1 (InceptionV1)   (None, 26, 26, 160)       20544     \n",
      "_________________________________________________________________\n",
      "conv2d_1 (Conv2D)            (None, 24, 24, 32)        46112     \n",
      "_________________________________________________________________\n",
      "flatten (Flatten)            (None, 18432)             0         \n",
      "_________________________________________________________________\n",
      "dense (Dense)                (None, 10)                184330    \n",
      "=================================================================\n",
      "Total params: 251,626\n",
      "Trainable params: 251,626\n",
      "Non-trainable params: 0\n",
      "_________________________________________________________________\n"
     ]
    }
   ],
   "source": [
    "# Sequencial model\n",
    "model = keras.models.Sequential()\n",
    "\n",
    "# Add layers\n",
    "model.add(keras.layers.Conv2D(64, kernel_size=3, activation=\"relu\", input_shape=(28,28,1)))\n",
    "\n",
    "# Use Tensorhub's custom layer\n",
    "# Here we are using inception module as a custom layer for better feature extraction\n",
    "model.add(InceptionV1(32))\n",
    "\n",
    "model.add(keras.layers.Conv2D(32, kernel_size=3, activation=\"relu\")) # Use gelu from tensorhub.activations\n",
    "\n",
    "model.add(keras.layers.Flatten())\n",
    "\n",
    "# Output layer\n",
    "model.add(keras.layers.Dense(10, activation=\"softmax\")) # Use softmax from tensorhub.activations\n",
    "\n",
    "model.summary()"
   ]
  },
  {
   "cell_type": "code",
   "execution_count": 3,
   "metadata": {
    "ExecuteTime": {
     "end_time": "2019-07-16T10:25:01.367266Z",
     "start_time": "2019-07-16T10:25:01.177967Z"
    }
   },
   "outputs": [
    {
     "name": "stdout",
     "output_type": "stream",
     "text": [
      "Model: \"sequential_1\"\n",
      "_________________________________________________________________\n",
      "Layer (type)                 Output Shape              Param #   \n",
      "=================================================================\n",
      "conv2d_2 (Conv2D)            (None, 26, 26, 64)        640       \n",
      "_________________________________________________________________\n",
      "inception_v1_1 (InceptionV1) (None, 26, 26, 160)       20544     \n",
      "_________________________________________________________________\n",
      "inception_v1_2 (InceptionV1) (None, 26, 26, 256)       51264     \n",
      "_________________________________________________________________\n",
      "inception_v1_3 (InceptionV1) (None, 26, 26, 304)       40992     \n",
      "_________________________________________________________________\n",
      "flatten_1 (Flatten)          (None, 205504)            0         \n",
      "_________________________________________________________________\n",
      "dense_1 (Dense)              (None, 10)                2055050   \n",
      "=================================================================\n",
      "Total params: 2,168,490\n",
      "Trainable params: 2,168,490\n",
      "Non-trainable params: 0\n",
      "_________________________________________________________________\n"
     ]
    }
   ],
   "source": [
    "# Sequencial model\n",
    "model = keras.models.Sequential()\n",
    "\n",
    "# Add input layer\n",
    "model.add(keras.layers.Conv2D(64, kernel_size=3, activation=\"relu\", input_shape=(28,28,1)))\n",
    "\n",
    "# Use Tensorhub's custom layer\n",
    "model.add(InceptionV1(32))\n",
    "\n",
    "# Stack layers like Inception model arch\n",
    "model.add(InceptionV1(32))\n",
    "\n",
    "# Stack layers like Inception model arch\n",
    "model.add(InceptionV1(16))\n",
    "\n",
    "model.add(keras.layers.Flatten())\n",
    "\n",
    "# Output layer\n",
    "model.add(keras.layers.Dense(10, activation=\"softmax\")) # Use softmax from tensorhub.activations\n",
    "\n",
    "model.summary()"
   ]
  },
  {
   "cell_type": "code",
   "execution_count": null,
   "metadata": {},
   "outputs": [],
   "source": []
  }
 ],
 "metadata": {
  "kernelspec": {
   "display_name": "Python [conda env:package_test]",
   "language": "python",
   "name": "conda-env-package_test-py"
  },
  "language_info": {
   "codemirror_mode": {
    "name": "ipython",
    "version": 3
   },
   "file_extension": ".py",
   "mimetype": "text/x-python",
   "name": "python",
   "nbconvert_exporter": "python",
   "pygments_lexer": "ipython3",
   "version": "3.7.3"
  }
 },
 "nbformat": 4,
 "nbformat_minor": 2
}
